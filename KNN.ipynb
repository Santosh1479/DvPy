{
 "cells": [
  {
   "cell_type": "markdown",
   "metadata": {},
   "source": [
    "PLAY with IRIS dataset KNN algo\n"
   ]
  },
  {
   "cell_type": "code",
   "execution_count": 1,
   "metadata": {},
   "outputs": [
    {
     "name": "stdout",
     "output_type": "stream",
     "text": [
      "Id, SepalLengthCm, SepalWidthCm, PetalLengthCm, PetalWidthCm, Species\n",
      "1, 5.1, 3.5, 1.4, 0.2, Iris-setosa\n",
      "2, 4.9, 3.0, 1.4, 0.2, Iris-setosa\n",
      "3, 4.7, 3.2, 1.3, 0.2, Iris-setosa\n",
      "4, 4.6, 3.1, 1.5, 0.2, Iris-setosa\n",
      "5, 5.0, 3.6, 1.4, 0.2, Iris-setosa\n",
      "6, 5.4, 3.9, 1.7, 0.4, Iris-setosa\n",
      "7, 4.6, 3.4, 1.4, 0.3, Iris-setosa\n",
      "8, 5.0, 3.4, 1.5, 0.2, Iris-setosa\n",
      "9, 4.4, 2.9, 1.4, 0.2, Iris-setosa\n",
      "10, 4.9, 3.1, 1.5, 0.1, Iris-setosa\n",
      "11, 5.4, 3.7, 1.5, 0.2, Iris-setosa\n",
      "12, 4.8, 3.4, 1.6, 0.2, Iris-setosa\n",
      "13, 4.8, 3.0, 1.4, 0.1, Iris-setosa\n",
      "14, 4.3, 3.0, 1.1, 0.1, Iris-setosa\n",
      "15, 5.8, 4.0, 1.2, 0.2, Iris-setosa\n",
      "16, 5.7, 4.4, 1.5, 0.4, Iris-setosa\n",
      "17, 5.4, 3.9, 1.3, 0.4, Iris-setosa\n",
      "18, 5.1, 3.5, 1.4, 0.3, Iris-setosa\n",
      "19, 5.7, 3.8, 1.7, 0.3, Iris-setosa\n",
      "20, 5.1, 3.8, 1.5, 0.3, Iris-setosa\n",
      "21, 5.4, 3.4, 1.7, 0.2, Iris-setosa\n",
      "22, 5.1, 3.7, 1.5, 0.4, Iris-setosa\n",
      "23, 4.6, 3.6, 1.0, 0.2, Iris-setosa\n",
      "24, 5.1, 3.3, 1.7, 0.5, Iris-setosa\n",
      "25, 4.8, 3.4, 1.9, 0.2, Iris-setosa\n",
      "26, 5.0, 3.0, 1.6, 0.2, Iris-setosa\n",
      "27, 5.0, 3.4, 1.6, 0.4, Iris-setosa\n",
      "28, 5.2, 3.5, 1.5, 0.2, Iris-setosa\n",
      "29, 5.2, 3.4, 1.4, 0.2, Iris-setosa\n",
      "30, 4.7, 3.2, 1.6, 0.2, Iris-setosa\n",
      "31, 4.8, 3.1, 1.6, 0.2, Iris-setosa\n",
      "32, 5.4, 3.4, 1.5, 0.4, Iris-setosa\n",
      "33, 5.2, 4.1, 1.5, 0.1, Iris-setosa\n",
      "34, 5.5, 4.2, 1.4, 0.2, Iris-setosa\n",
      "35, 4.9, 3.1, 1.5, 0.1, Iris-setosa\n",
      "36, 5.0, 3.2, 1.2, 0.2, Iris-setosa\n",
      "37, 5.5, 3.5, 1.3, 0.2, Iris-setosa\n",
      "38, 4.9, 3.1, 1.5, 0.1, Iris-setosa\n",
      "39, 4.4, 3.0, 1.3, 0.2, Iris-setosa\n",
      "40, 5.1, 3.4, 1.5, 0.2, Iris-setosa\n",
      "41, 5.0, 3.5, 1.3, 0.3, Iris-setosa\n",
      "42, 4.5, 2.3, 1.3, 0.3, Iris-setosa\n",
      "43, 4.4, 3.2, 1.3, 0.2, Iris-setosa\n",
      "44, 5.0, 3.5, 1.6, 0.6, Iris-setosa\n",
      "45, 5.1, 3.8, 1.9, 0.4, Iris-setosa\n",
      "46, 4.8, 3.0, 1.4, 0.3, Iris-setosa\n",
      "47, 5.1, 3.8, 1.6, 0.2, Iris-setosa\n",
      "48, 4.6, 3.2, 1.4, 0.2, Iris-setosa\n",
      "49, 5.3, 3.7, 1.5, 0.2, Iris-setosa\n",
      "50, 5.0, 3.3, 1.4, 0.2, Iris-setosa\n",
      "51, 7.0, 3.2, 4.7, 1.4, Iris-versicolor\n",
      "52, 6.4, 3.2, 4.5, 1.5, Iris-versicolor\n",
      "53, 6.9, 3.1, 4.9, 1.5, Iris-versicolor\n",
      "54, 5.5, 2.3, 4.0, 1.3, Iris-versicolor\n",
      "55, 6.5, 2.8, 4.6, 1.5, Iris-versicolor\n",
      "56, 5.7, 2.8, 4.5, 1.3, Iris-versicolor\n",
      "57, 6.3, 3.3, 4.7, 1.6, Iris-versicolor\n",
      "58, 4.9, 2.4, 3.3, 1.0, Iris-versicolor\n",
      "59, 6.6, 2.9, 4.6, 1.3, Iris-versicolor\n",
      "60, 5.2, 2.7, 3.9, 1.4, Iris-versicolor\n",
      "61, 5.0, 2.0, 3.5, 1.0, Iris-versicolor\n",
      "62, 5.9, 3.0, 4.2, 1.5, Iris-versicolor\n",
      "63, 6.0, 2.2, 4.0, 1.0, Iris-versicolor\n",
      "64, 6.1, 2.9, 4.7, 1.4, Iris-versicolor\n",
      "65, 5.6, 2.9, 3.6, 1.3, Iris-versicolor\n",
      "66, 6.7, 3.1, 4.4, 1.4, Iris-versicolor\n",
      "67, 5.6, 3.0, 4.5, 1.5, Iris-versicolor\n",
      "68, 5.8, 2.7, 4.1, 1.0, Iris-versicolor\n",
      "69, 6.2, 2.2, 4.5, 1.5, Iris-versicolor\n",
      "70, 5.6, 2.5, 3.9, 1.1, Iris-versicolor\n",
      "71, 5.9, 3.2, 4.8, 1.8, Iris-versicolor\n",
      "72, 6.1, 2.8, 4.0, 1.3, Iris-versicolor\n",
      "73, 6.3, 2.5, 4.9, 1.5, Iris-versicolor\n",
      "74, 6.1, 2.8, 4.7, 1.2, Iris-versicolor\n",
      "75, 6.4, 2.9, 4.3, 1.3, Iris-versicolor\n",
      "76, 6.6, 3.0, 4.4, 1.4, Iris-versicolor\n",
      "77, 6.8, 2.8, 4.8, 1.4, Iris-versicolor\n",
      "78, 6.7, 3.0, 5.0, 1.7, Iris-versicolor\n",
      "79, 6.0, 2.9, 4.5, 1.5, Iris-versicolor\n",
      "80, 5.7, 2.6, 3.5, 1.0, Iris-versicolor\n",
      "81, 5.5, 2.4, 3.8, 1.1, Iris-versicolor\n",
      "82, 5.5, 2.4, 3.7, 1.0, Iris-versicolor\n",
      "83, 5.8, 2.7, 3.9, 1.2, Iris-versicolor\n",
      "84, 6.0, 2.7, 5.1, 1.6, Iris-versicolor\n",
      "85, 5.4, 3.0, 4.5, 1.5, Iris-versicolor\n",
      "86, 6.0, 3.4, 4.5, 1.6, Iris-versicolor\n",
      "87, 6.7, 3.1, 4.7, 1.5, Iris-versicolor\n",
      "88, 6.3, 2.3, 4.4, 1.3, Iris-versicolor\n",
      "89, 5.6, 3.0, 4.1, 1.3, Iris-versicolor\n",
      "90, 5.5, 2.5, 4.0, 1.3, Iris-versicolor\n",
      "91, 5.5, 2.6, 4.4, 1.2, Iris-versicolor\n",
      "92, 6.1, 3.0, 4.6, 1.4, Iris-versicolor\n",
      "93, 5.8, 2.6, 4.0, 1.2, Iris-versicolor\n",
      "94, 5.0, 2.3, 3.3, 1.0, Iris-versicolor\n",
      "95, 5.6, 2.7, 4.2, 1.3, Iris-versicolor\n",
      "96, 5.7, 3.0, 4.2, 1.2, Iris-versicolor\n",
      "97, 5.7, 2.9, 4.2, 1.3, Iris-versicolor\n",
      "98, 6.2, 2.9, 4.3, 1.3, Iris-versicolor\n",
      "99, 5.1, 2.5, 3.0, 1.1, Iris-versicolor\n",
      "100, 5.7, 2.8, 4.1, 1.3, Iris-versicolor\n",
      "101, 6.3, 3.3, 6.0, 2.5, Iris-virginica\n",
      "102, 5.8, 2.7, 5.1, 1.9, Iris-virginica\n",
      "103, 7.1, 3.0, 5.9, 2.1, Iris-virginica\n",
      "104, 6.3, 2.9, 5.6, 1.8, Iris-virginica\n",
      "105, 6.5, 3.0, 5.8, 2.2, Iris-virginica\n",
      "106, 7.6, 3.0, 6.6, 2.1, Iris-virginica\n",
      "107, 4.9, 2.5, 4.5, 1.7, Iris-virginica\n",
      "108, 7.3, 2.9, 6.3, 1.8, Iris-virginica\n",
      "109, 6.7, 2.5, 5.8, 1.8, Iris-virginica\n",
      "110, 7.2, 3.6, 6.1, 2.5, Iris-virginica\n",
      "111, 6.5, 3.2, 5.1, 2.0, Iris-virginica\n",
      "112, 6.4, 2.7, 5.3, 1.9, Iris-virginica\n",
      "113, 6.8, 3.0, 5.5, 2.1, Iris-virginica\n",
      "114, 5.7, 2.5, 5.0, 2.0, Iris-virginica\n",
      "115, 5.8, 2.8, 5.1, 2.4, Iris-virginica\n",
      "116, 6.4, 3.2, 5.3, 2.3, Iris-virginica\n",
      "117, 6.5, 3.0, 5.5, 1.8, Iris-virginica\n",
      "118, 7.7, 3.8, 6.7, 2.2, Iris-virginica\n",
      "119, 7.7, 2.6, 6.9, 2.3, Iris-virginica\n",
      "120, 6.0, 2.2, 5.0, 1.5, Iris-virginica\n",
      "121, 6.9, 3.2, 5.7, 2.3, Iris-virginica\n",
      "122, 5.6, 2.8, 4.9, 2.0, Iris-virginica\n",
      "123, 7.7, 2.8, 6.7, 2.0, Iris-virginica\n",
      "124, 6.3, 2.7, 4.9, 1.8, Iris-virginica\n",
      "125, 6.7, 3.3, 5.7, 2.1, Iris-virginica\n",
      "126, 7.2, 3.2, 6.0, 1.8, Iris-virginica\n",
      "127, 6.2, 2.8, 4.8, 1.8, Iris-virginica\n",
      "128, 6.1, 3.0, 4.9, 1.8, Iris-virginica\n",
      "129, 6.4, 2.8, 5.6, 2.1, Iris-virginica\n",
      "130, 7.2, 3.0, 5.8, 1.6, Iris-virginica\n",
      "131, 7.4, 2.8, 6.1, 1.9, Iris-virginica\n",
      "132, 7.9, 3.8, 6.4, 2.0, Iris-virginica\n",
      "133, 6.4, 2.8, 5.6, 2.2, Iris-virginica\n",
      "134, 6.3, 2.8, 5.1, 1.5, Iris-virginica\n",
      "135, 6.1, 2.6, 5.6, 1.4, Iris-virginica\n",
      "136, 7.7, 3.0, 6.1, 2.3, Iris-virginica\n",
      "137, 6.3, 3.4, 5.6, 2.4, Iris-virginica\n",
      "138, 6.4, 3.1, 5.5, 1.8, Iris-virginica\n",
      "139, 6.0, 3.0, 4.8, 1.8, Iris-virginica\n",
      "140, 6.9, 3.1, 5.4, 2.1, Iris-virginica\n",
      "141, 6.7, 3.1, 5.6, 2.4, Iris-virginica\n",
      "142, 6.9, 3.1, 5.1, 2.3, Iris-virginica\n",
      "143, 5.8, 2.7, 5.1, 1.9, Iris-virginica\n",
      "144, 6.8, 3.2, 5.9, 2.3, Iris-virginica\n",
      "145, 6.7, 3.3, 5.7, 2.5, Iris-virginica\n",
      "146, 6.7, 3.0, 5.2, 2.3, Iris-virginica\n",
      "147, 6.3, 2.5, 5.0, 1.9, Iris-virginica\n",
      "148, 6.5, 3.0, 5.2, 2.0, Iris-virginica\n",
      "149, 6.2, 3.4, 5.4, 2.3, Iris-virginica\n",
      "150, 5.9, 3.0, 5.1, 1.8, Iris-virginica\n"
     ]
    }
   ],
   "source": [
    "import csv\n",
    "with open('Iris.csv', 'r')as csvfile:\n",
    "    lines=csv.reader(csvfile)\n",
    "    for row in lines:\n",
    "        print(', '.join(row))\n"
   ]
  },
  {
   "cell_type": "code",
   "execution_count": 2,
   "metadata": {},
   "outputs": [],
   "source": [
    "import csv\n",
    "import random\n",
    "def loadDset(filename, split, trainingSet=[], testSet=[]):\n",
    "    with open(filename, 'r') as csvfile:\n",
    "        lines=csv.reader(csvfile)\n",
    "        next(lines)\n",
    "        Dset=list(lines)\n",
    "        for x in range(len(Dset)-1):\n",
    "            for y in range(4):\n",
    "                Dset[x][y]=float(Dset[x][y])\n",
    "            if random.random()<split:\n",
    "                trainingSet.append(Dset[x])\n",
    "            else:\n",
    "                testSet.append(Dset[x])"
   ]
  },
  {
   "cell_type": "code",
   "execution_count": 3,
   "metadata": {},
   "outputs": [
    {
     "name": "stdout",
     "output_type": "stream",
     "text": [
      "train:90\n",
      "test:59\n"
     ]
    }
   ],
   "source": [
    "trainingSet=[]\n",
    "testSet=[]\n",
    "loadDset('Iris.csv',0.66,trainingSet, testSet)\n",
    "print('train:'+repr(len(trainingSet)))\n",
    "print('test:'+repr(len(testSet)))\n"
   ]
  },
  {
   "cell_type": "code",
   "execution_count": 4,
   "metadata": {},
   "outputs": [],
   "source": [
    "import math\n",
    "def euclideanDist(ins1, ins2, l):\n",
    "    dist=0\n",
    "    for x in range(l):\n",
    "        dist+=pow((ins1[x]-ins2[x]),2)\n",
    "    return math.sqrt(dist)\n"
   ]
  },
  {
   "cell_type": "code",
   "execution_count": 5,
   "metadata": {},
   "outputs": [
    {
     "name": "stdout",
     "output_type": "stream",
     "text": [
      "Distance:1.4142135623730951\n"
     ]
    }
   ],
   "source": [
    "data1 = [3,3,3,'a']\n",
    "data2 = [4,4,4,'b']\n",
    "dist = euclideanDist(data1, data2, 2)\n",
    "print('Distance:'+ repr(dist))\n"
   ]
  },
  {
   "cell_type": "code",
   "execution_count": 6,
   "metadata": {},
   "outputs": [],
   "source": [
    "import operator\n",
    "def getNeighbours(trainingSet, testins, k):\n",
    "    dists = []\n",
    "    length = len(testins)-1\n",
    "    for x in range(len(trainingSet)):\n",
    "        dist = euclideanDist(testins, trainingSet[x],length)\n",
    "        dists.append((trainingSet[x],dist))\n",
    "    dists.sort(key = operator.itemgetter(1))\n",
    "    neighbours = []\n",
    "    for x in range(k):\n",
    "        neighbours.append(dists[x][0])\n",
    "    return neighbours"
   ]
  },
  {
   "cell_type": "code",
   "execution_count": 7,
   "metadata": {},
   "outputs": [
    {
     "name": "stdout",
     "output_type": "stream",
     "text": [
      "[[4, 4, 4, 'b'], [3, 3, 3, 'a']]\n"
     ]
    }
   ],
   "source": [
    "trainSet = [[3,3,3,'a'],[4,4,4,'b']]\n",
    "testins = [7,7,7]\n",
    "k=2\n",
    "neighbours = getNeighbours(trainSet,testins,k)\n",
    "print(neighbours)"
   ]
  },
  {
   "cell_type": "code",
   "execution_count": 8,
   "metadata": {},
   "outputs": [],
   "source": [
    "import operator\n",
    "def getResp(neighbours):\n",
    "    classVotes = {}\n",
    "    for x in range(len(neighbours)):\n",
    "        resp = neighbours[x][-1]\n",
    "        if resp in classVotes:\n",
    "            classVotes[resp]+=1\n",
    "        else:\n",
    "            classVotes[resp]=1\n",
    "    sortedVotes = sorted(classVotes.items(), key=operator.itemgetter(1), reverse=True)\n",
    "    return sortedVotes[0][0]"
   ]
  },
  {
   "cell_type": "code",
   "execution_count": 9,
   "metadata": {},
   "outputs": [
    {
     "name": "stdout",
     "output_type": "stream",
     "text": [
      "a\n"
     ]
    }
   ],
   "source": [
    "neighbours = [[1,1,1,'a'],[2,2,2,'a'],[3,3,3,'b']]\n",
    "resp = getResp(neighbours)\n",
    "print(resp)"
   ]
  },
  {
   "cell_type": "code",
   "execution_count": 10,
   "metadata": {},
   "outputs": [],
   "source": [
    "def getAccuracy(testSet, predictions):\n",
    "    correct=0\n",
    "    for x in range(len(testSet)):\n",
    "        if testSet[x][-1] is predictions[x]:\n",
    "            correct+=1\n",
    "    return (correct/float(len(testSet)))*100.0"
   ]
  },
  {
   "cell_type": "code",
   "execution_count": 11,
   "metadata": {},
   "outputs": [
    {
     "name": "stdout",
     "output_type": "stream",
     "text": [
      "66.66666666666666\n"
     ]
    }
   ],
   "source": [
    "testSet=[[1,1,1,'a'],[2,2,2,'a'],[3,3,3,'b']]\n",
    "predictions=['a','a','a']\n",
    "accuracy = getAccuracy(testSet, predictions)\n",
    "print(accuracy)"
   ]
  },
  {
   "cell_type": "code",
   "execution_count": null,
   "metadata": {},
   "outputs": [
    {
     "name": "stdout",
     "output_type": "stream",
     "text": [
      "Train set:87\n",
      "Test set:62\n"
     ]
    },
    {
     "ename": "TypeError",
     "evalue": "unsupported operand type(s) for -: 'str' and 'str'",
     "output_type": "error",
     "traceback": [
      "\u001b[1;31m---------------------------------------------------------------------------\u001b[0m",
      "\u001b[1;31mTypeError\u001b[0m                                 Traceback (most recent call last)",
      "Cell \u001b[1;32mIn[15], line 18\u001b[0m\n\u001b[0;32m     15\u001b[0m     accuracy \u001b[38;5;241m=\u001b[39m getAccuracy(testSet, predictions)\n\u001b[0;32m     16\u001b[0m     \u001b[38;5;28mprint\u001b[39m(\u001b[38;5;124m'\u001b[39m\u001b[38;5;124mAccuracy:\u001b[39m\u001b[38;5;124m'\u001b[39m\u001b[38;5;241m+\u001b[39m\u001b[38;5;28mrepr\u001b[39m(accuracy)\u001b[38;5;241m+\u001b[39m\u001b[38;5;124m'\u001b[39m\u001b[38;5;124m%\u001b[39m\u001b[38;5;124m'\u001b[39m)\n\u001b[1;32m---> 18\u001b[0m \u001b[43mmain\u001b[49m\u001b[43m(\u001b[49m\u001b[43m)\u001b[49m\n",
      "Cell \u001b[1;32mIn[15], line 11\u001b[0m, in \u001b[0;36mmain\u001b[1;34m()\u001b[0m\n\u001b[0;32m      9\u001b[0m k\u001b[38;5;241m=\u001b[39m\u001b[38;5;241m3\u001b[39m\n\u001b[0;32m     10\u001b[0m \u001b[38;5;28;01mfor\u001b[39;00m x \u001b[38;5;129;01min\u001b[39;00m \u001b[38;5;28mrange\u001b[39m(\u001b[38;5;28mlen\u001b[39m(testSet)):\n\u001b[1;32m---> 11\u001b[0m     neighbours \u001b[38;5;241m=\u001b[39m \u001b[43mgetNeighbours\u001b[49m\u001b[43m(\u001b[49m\u001b[43mtrainingSet\u001b[49m\u001b[43m,\u001b[49m\u001b[43m \u001b[49m\u001b[43mtestSet\u001b[49m\u001b[43m[\u001b[49m\u001b[43mx\u001b[49m\u001b[43m]\u001b[49m\u001b[43m,\u001b[49m\u001b[43m \u001b[49m\u001b[38;5;241;43m1\u001b[39;49m\u001b[43m)\u001b[49m\n\u001b[0;32m     12\u001b[0m     result \u001b[38;5;241m=\u001b[39m getResp(neighbours)\n\u001b[0;32m     13\u001b[0m     predictions\u001b[38;5;241m.\u001b[39mappend(result)\n",
      "Cell \u001b[1;32mIn[6], line 6\u001b[0m, in \u001b[0;36mgetNeighbours\u001b[1;34m(trainingSet, testins, k)\u001b[0m\n\u001b[0;32m      4\u001b[0m length \u001b[38;5;241m=\u001b[39m \u001b[38;5;28mlen\u001b[39m(testins)\u001b[38;5;241m-\u001b[39m\u001b[38;5;241m1\u001b[39m\n\u001b[0;32m      5\u001b[0m \u001b[38;5;28;01mfor\u001b[39;00m x \u001b[38;5;129;01min\u001b[39;00m \u001b[38;5;28mrange\u001b[39m(\u001b[38;5;28mlen\u001b[39m(trainingSet)):\n\u001b[1;32m----> 6\u001b[0m     dist \u001b[38;5;241m=\u001b[39m \u001b[43meuclideanDist\u001b[49m\u001b[43m(\u001b[49m\u001b[43mtestins\u001b[49m\u001b[43m,\u001b[49m\u001b[43m \u001b[49m\u001b[43mtrainingSet\u001b[49m\u001b[43m[\u001b[49m\u001b[43mx\u001b[49m\u001b[43m]\u001b[49m\u001b[43m,\u001b[49m\u001b[43mlength\u001b[49m\u001b[43m)\u001b[49m\n\u001b[0;32m      7\u001b[0m     dists\u001b[38;5;241m.\u001b[39mappend((trainingSet[x],dist))\n\u001b[0;32m      8\u001b[0m dists\u001b[38;5;241m.\u001b[39msort(key \u001b[38;5;241m=\u001b[39m operator\u001b[38;5;241m.\u001b[39mitemgetter(\u001b[38;5;241m1\u001b[39m))\n",
      "Cell \u001b[1;32mIn[4], line 5\u001b[0m, in \u001b[0;36meuclideanDist\u001b[1;34m(ins1, ins2, l)\u001b[0m\n\u001b[0;32m      3\u001b[0m dist\u001b[38;5;241m=\u001b[39m\u001b[38;5;241m0\u001b[39m\n\u001b[0;32m      4\u001b[0m \u001b[38;5;28;01mfor\u001b[39;00m x \u001b[38;5;129;01min\u001b[39;00m \u001b[38;5;28mrange\u001b[39m(l):\n\u001b[1;32m----> 5\u001b[0m     dist\u001b[38;5;241m+\u001b[39m\u001b[38;5;241m=\u001b[39m\u001b[38;5;28mpow\u001b[39m((\u001b[43mins1\u001b[49m\u001b[43m[\u001b[49m\u001b[43mx\u001b[49m\u001b[43m]\u001b[49m\u001b[38;5;241;43m-\u001b[39;49m\u001b[43mins2\u001b[49m\u001b[43m[\u001b[49m\u001b[43mx\u001b[49m\u001b[43m]\u001b[49m),\u001b[38;5;241m2\u001b[39m)\n\u001b[0;32m      6\u001b[0m \u001b[38;5;28;01mreturn\u001b[39;00m math\u001b[38;5;241m.\u001b[39msqrt(dist)\n",
      "\u001b[1;31mTypeError\u001b[0m: unsupported operand type(s) for -: 'str' and 'str'"
     ]
    }
   ],
   "source": [
    "def main():\n",
    "    trainingSet=[]\n",
    "    testSet=[]\n",
    "    split=0.6\n",
    "    loadDset('Iris.csv',split,trainingSet,testSet)\n",
    "    print('Train set:'+repr(len(trainingSet)))\n",
    "    print('Test set:'+repr(len(testSet)))\n",
    "    predictions=[]\n",
    "    k=3\n",
    "    for x in range(len(testSet)):\n",
    "        neighbours = getNeighbours(trainingSet, testSet[x], k)\n",
    "        result = getResp(neighbours)\n",
    "        predictions.append(result)\n",
    "        print('>predicted='+repr(result)+', actual='+repr(testSet[x][-1]))\n",
    "    accuracy = getAccuracy(testSet, predictions)\n",
    "    print('Accuracy:'+repr(accuracy)+'%')\n",
    "\n",
    "main()"
   ]
  }
 ],
 "metadata": {
  "kernelspec": {
   "display_name": "Python 3",
   "language": "python",
   "name": "python3"
  },
  "language_info": {
   "codemirror_mode": {
    "name": "ipython",
    "version": 3
   },
   "file_extension": ".py",
   "mimetype": "text/x-python",
   "name": "python",
   "nbconvert_exporter": "python",
   "pygments_lexer": "ipython3",
   "version": "3.13.1"
  }
 },
 "nbformat": 4,
 "nbformat_minor": 2
}
